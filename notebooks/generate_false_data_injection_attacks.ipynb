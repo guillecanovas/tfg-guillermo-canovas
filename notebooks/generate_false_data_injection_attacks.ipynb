{
  "nbformat": 4,
  "nbformat_minor": 0,
  "metadata": {
    "colab": {
      "provenance": []
    },
    "kernelspec": {
      "name": "python3",
      "display_name": "Python 3"
    },
    "language_info": {
      "name": "python"
    }
  },
  "cells": [
    {
      "cell_type": "code",
      "source": [
        "import os\n",
        "import datetime\n",
        "import pandas as pd\n",
        "import numpy as np\n",
        "from matplotlib import pyplot as plt\n",
        "import seaborn as sns\n",
        "import math\n",
        "import time\n",
        "from datetime import datetime, timedelta"
      ],
      "metadata": {
        "id": "AHlf0ceb8cPM"
      },
      "execution_count": null,
      "outputs": []
    },
    {
      "cell_type": "code",
      "source": [
        "def get_training_testing(type):\n",
        "  \"\"\"\n",
        "    Given a string with value 'training' or 'testing' returns the corresponding pandas DataFrame\n",
        "    Inputs:\n",
        "        type : string\n",
        "    Outputs:\n",
        "        electricity_data : pandas DataFrame\n",
        "  \"\"\"\n",
        "  dir_path = './'\n",
        "\n",
        "  if type == 'testing attack':\n",
        "    file_name = str(METER_ID) + '_' + str(ATTACK_INJECTION) + '_61_75.csv'\n",
        "    file_list = [file_name]\n",
        "\n",
        "  elif type == 'testing':\n",
        "    file_name = str(METER_ID) + '_61_75.csv'\n",
        "    file_list = [file_name]\n",
        "\n",
        "\n",
        "  df_list = []\n",
        "  for file in file_list:\n",
        "      df = pd.read_csv(os.path.join(dir_path, file))\n",
        "      df['filename'] = file\n",
        "      df_list.append(df)\n",
        "\n",
        "  electricity_data = pd.concat(df_list)\n",
        "  electricity_data = electricity_data.drop(columns=['filename'])\n",
        "\n",
        "  return electricity_data\n",
        "\n",
        "def calculate_date(day):\n",
        "  \"\"\"\n",
        "    Transforms a numeric value representing the day of the year into a value of type string with the format %Y-%m-%d\n",
        "    Inputs:\n",
        "        day : int\n",
        "    Outputs:\n",
        "        date_string : string\n",
        "  \"\"\"\n",
        "  start_date = datetime(2008, 12, 31)\n",
        "  future_date = start_date + timedelta(days = day)\n",
        "  date_string = future_date.strftime('%Y-%m-%d')\n",
        "\n",
        "  return date_string\n",
        "\n",
        "def data_preprocessing(df):\n",
        "  \"\"\"\n",
        "    Transforms a pandas DataFrame with columns 'ID', 'DT', 'Usage' into\n",
        "    DataFrame with columns 'ID', 'Usage', 'Dia', 'Media_hora' and 'Fecha' and finally into a DataFrame\n",
        "    with 'ID' and 'Datetime' as indexes and 'Usage' as the main column. 'Datetime' format its as follows: %Y-%m-%d %H:%M:%S\n",
        "    Inputs:\n",
        "        df : pandas DataFrame\n",
        "    Outputs:x\n",
        "        df : pandas DataFrame\n",
        "  \"\"\"\n",
        "\n",
        "  df['Dia'] = df['DT'].astype(str).str[:3].astype(int) # Crear una nueva columna \"dia\" a partir de la columna \"fecha_hora\"\n",
        "  df['Media_hora'] = df['DT'].astype(str).str[3:].astype(int) # Crear una nueva columna \"hora\" a partir de la columna \"fecha_hora\"\n",
        "  df.drop('DT', axis=1, inplace=True) # Eliminar la columna \"fecha_hora\" original\n",
        "  df['Fecha'] = df['Dia'].apply(calculate_date)\n",
        "\n",
        "  df['Fecha'] = pd.to_datetime(df['Fecha']) # Convierte la columna de fecha a datetime\n",
        "  df['Minutos'] = (df['Media_hora'] - 1) * 30 # Calcula la hora correspondiente en minutos\n",
        "  df['Timedelta'] = pd.to_timedelta(df['Minutos'], unit='m') # Convierte los minutos a timedelta\n",
        "  df['Datetime'] = df['Fecha'] + df['Timedelta'] # Suma la columna de fecha y la columna de timedelta\n",
        "  df['Datetime'] = pd.to_datetime(df['Datetime'], format = '%Y-%m-%d %H:%M:%S')\n",
        "  df['Is_Attack'] = 'False'\n",
        "\n",
        "  # Option 1: con todos los IDs a la vez\n",
        "  '''df = df.drop(columns=['Dia', 'Media_hora', 'Fecha', 'Timedelta', 'Minutos']) # Elimina las columnas innecesarias\n",
        "  df.set_index(['Datetime','ID'], inplace=True)'''\n",
        "\n",
        "  # Option 2: uno por uno cada ID\n",
        "  df = df.drop(columns=['Dia', 'Media_hora', 'ID', 'Fecha', 'Timedelta', 'Minutos']) # Elimina las columnas innecesarias\n",
        "\n",
        "  new_order = ['Datetime', 'Usage', 'Is_Attack']\n",
        "\n",
        "  df = df[new_order]\n",
        "\n",
        "  return df"
      ],
      "metadata": {
        "id": "IOX_CVJq8aFg"
      },
      "execution_count": null,
      "outputs": []
    },
    {
      "cell_type": "code",
      "source": [
        "METER_ID = 5196\n",
        "ATTACK_INJECTION = 'Swap'\n",
        "\n",
        "#Get training and testing dataframe\n",
        "df_test_attack = get_training_testing('testing attack')\n",
        "df_test = get_training_testing('testing')\n",
        "\n",
        "df_test_attack = data_preprocessing(df_test_attack)\n",
        "df_test = data_preprocessing(df_test)\n",
        "\n",
        "rows, cols = df_test.shape\n",
        "num_modifications = len(df_test) * 0.10 #El 10% son valores modificados\n",
        "random_rows = np.random.randint(0, rows, int(num_modifications)) # Generar índices aleatorios para seleccionar las celdas a modificar\n",
        "random_rows[:5]\n",
        "\n",
        "for row in random_rows\n",
        "  df_test.iloc[row,1] = df_test_attack.iloc[row,1]\n",
        "  df_test.iloc[row,2] = 'Attack'\n",
        "\n",
        "new_filename_test = str(METER_ID) + \"_Injection_\" +  str(ATTACK_INJECTION) + \"_Test.csv\"\n",
        "df_test.to_csv(new_filename_test, index=False)\n",
        "print(f\"El fichero {new_filename_test} ha sido creado con éxito.\")"
      ],
      "metadata": {
        "id": "Zixj_too8wdM",
        "colab": {
          "base_uri": "https://localhost:8080/"
        },
        "outputId": "a9894820-1d0e-4d07-c883-0ed475089a62"
      },
      "execution_count": null,
      "outputs": [
        {
          "output_type": "stream",
          "name": "stdout",
          "text": [
            "El fichero 5196_Injection_Swap_Test.csv ha sido creado con éxito.\n"
          ]
        }
      ]
    }
  ]
}