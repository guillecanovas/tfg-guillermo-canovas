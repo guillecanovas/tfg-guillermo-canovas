{
  "nbformat": 4,
  "nbformat_minor": 0,
  "metadata": {
    "colab": {
      "provenance": []
    },
    "kernelspec": {
      "name": "python3",
      "display_name": "Python 3"
    },
    "language_info": {
      "name": "python"
    }
  },
  "cells": [
    {
      "cell_type": "markdown",
      "source": [
        "# **Postprocesado tablas generales**"
      ],
      "metadata": {
        "id": "RVQkrtlBqkuN"
      }
    },
    {
      "cell_type": "code",
      "source": [
        "import pandas as pd\n",
        "import io\n",
        "import numpy as np\n",
        "\n",
        "dataset = \"solar_generation\" #electricity, gas, solar_consumption, solar_generation\n",
        "detector = [\"Min-Avg\", \"ARIMA\", \"ARIMAX\", \"KLD\", \"JSD\", \"NN\", \"NN_v2\", \"LSTM\"]\n",
        "\n",
        "df = pd.read_csv(dataset + '_detector_comparer_results_final.csv')\n",
        "\n",
        "grouped_data = df.groupby(['detector', 'meterID', 'attack'])['accuracy'].mean().reset_index()\n",
        "pivoted_data = pd.pivot_table(grouped_data, values='accuracy', index='attack', columns='detector', aggfunc='mean')\n",
        "pivoted_data = pivoted_data.rename_axis(None, axis=0).rename_axis(None, axis=1)\n",
        "\n",
        "if dataset == 'solar_generation':\n",
        "  row_order = [\"False\", \"Percentile\", \"Rating\", \"RSA_0.5_3\"]\n",
        "else:\n",
        "  row_order = [\"False\", \"RSA_0.25_1.1\", \"RSA_0.5_3\", \"Avg\", \"Swap\", \"FDI10\", \"FDI30\"]\n",
        "\n",
        "# Convert the pivoted table to an HTML table with borders\n",
        "html_table = pivoted_data.to_html(border=1, float_format=\"{:.3f}\".format)\n",
        "\n",
        "# Save the HTML content to a file\n",
        "file_name = 'table_' + dataset + '_results.html'\n",
        "with io.open(file_name, 'w', encoding='utf-8') as file:\n",
        "    file.write(html_table)\n",
        "\n",
        "print(f\"Tabla HTML guardada como '{file_name}'\")\n"
      ],
      "metadata": {
        "colab": {
          "base_uri": "https://localhost:8080/"
        },
        "id": "2xkW08to3rKq",
        "outputId": "13c1be95-df85-4175-cd8e-60189588c7b3"
      },
      "execution_count": null,
      "outputs": [
        {
          "output_type": "stream",
          "name": "stdout",
          "text": [
            "Tabla HTML guardada como 'table_solar_generation_results.html'\n"
          ]
        }
      ]
    },
    {
      "cell_type": "markdown",
      "source": [
        "# **Postprocesado tamaño ventanas (NN, LSTM)**"
      ],
      "metadata": {
        "id": "bOs6pS6tqftu"
      }
    },
    {
      "cell_type": "code",
      "source": [
        "import pandas as pd\n",
        "import io\n",
        "import numpy as np\n",
        "\n",
        "dataset = \"solar_generation\"\n",
        "detector = \"LSTM\"\n",
        "\n",
        "df = pd.read_csv(dataset + '_detector_comparer_results_window.csv')\n",
        "\n",
        "grouped_data = df.groupby(['detector', 'meterID', 'attack'])['accuracy'].mean().reset_index()\n",
        "pivoted_data = pd.pivot_table(grouped_data, values='accuracy', index='attack', columns='detector', aggfunc='mean')\n",
        "pivoted_data = pivoted_data.rename_axis(None, axis=0).rename_axis(None, axis=1)\n",
        "\n",
        "if dataset == 'solar_generation':\n",
        "  row_order = [\"False\", \"Percentile\", \"Rating\", \"RSA_0.5_3\"]\n",
        "else:\n",
        "  row_order = [\"False\", \"RSA_0.25_1.1\", \"RSA_0.5_3\", \"Avg\", \"Swap\", \"FDI10\", \"FDI30\"]\n",
        "\n",
        "\n",
        "if detector == \"LSTM\":\n",
        "  column_order = [\"LSTM_2\", \"LSTM_3\", \"LSTM_5\", \"LSTM_7\", \"LSTM_10\", \"LSTM_14\", \"LSTM_30\"]\n",
        "else:\n",
        "  column_order = [\"NN_v2_2\", \"NN_v2_3\", \"NN_v2_5\", \"NN_v2_7\", \"NN_v2_10\", \"NN_v2_14\", \"NN_v2_30\"]\n",
        "pivoted_data_sorted = pivoted_data.reindex(row_order, columns=column_order)\n",
        "\n",
        "# Convert the pivoted table to an HTML table with borders\n",
        "html_table = pivoted_data_sorted.to_html(border=1, float_format=\"{:.3f}\".format)\n",
        "\n",
        "# Save the HTML content to a file\n",
        "file_name = 'table_' + dataset + \"_\" + detector + \"_window\" '.html'\n",
        "with io.open(file_name, 'w', encoding='utf-8') as file:\n",
        "    file.write(html_table)\n",
        "\n",
        "print(f\"Tabla HTML guardada como '{file_name}'\")\n"
      ],
      "metadata": {
        "id": "4PDhiZDfqcDL"
      },
      "execution_count": null,
      "outputs": []
    }
  ]
}